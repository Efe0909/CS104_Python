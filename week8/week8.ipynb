{
 "cells": [
  {
   "cell_type": "markdown",
   "id": "9a960ae4",
   "metadata": {},
   "source": [
    "# Özyeğin University\n",
    "# CS 104, Week-8 Lab exercises\n",
    "\n",
    "\"Eren Veli Acar\"\n",
    "\n",
    "\"S033362\""
   ]
  },
  {
   "cell_type": "markdown",
   "id": "fa77bfe5",
   "metadata": {},
   "source": [
    "\n",
    "### Exercise 1\n",
    "Write a Python program to create **a list of tuples** from a **given list of numbers**. The output should be a **list of tuples** where each tuple contains two elements: the original number and its square. **Use list comprehension to create the list of tuples**.\n"
   ]
  },
  {
   "cell_type": "code",
   "execution_count": 1,
   "id": "96bb108d",
   "metadata": {},
   "outputs": [
    {
     "name": "stdout",
     "output_type": "stream",
     "text": [
      "your output\n",
      "[(1, 1), (2, 4), (3, 9), (4, 16), (5, 25)]\n",
      "Correct output\n",
      "[(1, 1), (2, 4), (3, 9), (4, 16), (5, 25)]\n"
     ]
    }
   ],
   "source": [
    "# Write your program in this cell for Exercise 1.\n",
    "#\n",
    "numbers = [1, 2, 3, 4, 5]\n",
    "\n",
    "#Enter ONE LINE OF CODE below as your solution for the variable: mylistoftuples\n",
    "\n",
    "mylistoftuples = [(i,i**2) for i in numbers]\n",
    "\n",
    "print(\"your output\")\n",
    "print(mylistoftuples) # Print your output here. \n",
    "\n",
    "# Output should be as follows: \n",
    "print(\"Correct output\")\n",
    "print([(1, 1), (2, 4), (3, 9), (4, 16), (5, 25)])"
   ]
  },
  {
   "cell_type": "markdown",
   "id": "940374d9",
   "metadata": {},
   "source": [
    "### Exercise 2\n",
    "\n",
    "You are given two tuples and each tuple contains only integer numbers as its elements. You need to find all the elements (also as a tuple) which are not contained by both tuples. Write a function difference_tuples(tup1, tup2) doing that job first (where your function will take two tuples as its input, and it will return the tuple of the elements that does not exist in both tuples).\n",
    "\n",
    "For example for the given two tuples tup1 and tup2:\n",
    "\n",
    "tup1 = (1, 2, 3, 4, 5)\n",
    "\n",
    "tup2 = (3, 4, 5, 6)\n",
    "\n",
    "your function difference_tuples(tup1, tup2) should return (1,2,6) as its output. Your program will call difference_tuples(tup1, tup2) where both tuples are given by the user (use input function for that)."
   ]
  },
  {
   "cell_type": "code",
   "execution_count": 19,
   "id": "903afa64",
   "metadata": {
    "scrolled": true
   },
   "outputs": [
    {
     "name": "stdout",
     "output_type": "stream",
     "text": [
      "Lenght of tuple1: 5\n",
      "element 1 for tuple1: 1\n",
      "element 2 for tuple1: 2\n",
      "element 3 for tuple1: 3\n",
      "element 4 for tuple1: 4\n",
      "element 5 for tuple1: 5\n",
      "Lenght of tuple2: 5\n",
      "element 1 for tuple2: 3\n",
      "element 2 for tuple2: 4\n",
      "element 3 for tuple2: 5\n",
      "element 4 for tuple2: 6\n",
      "element 5 for tuple2: 7\n",
      "The first tuple:  (1, 2, 3, 4, 5)\n",
      "The second tuple:  (3, 4, 5, 6, 7)\n",
      "The diffent elements between both tuples are:  (1, 2, 6, 7)\n"
     ]
    }
   ],
   "source": [
    "# Solution for Exercise 2:\n",
    "def gettuple(num):\n",
    "    retuple=[]\n",
    "    lenght=int(input(f\"Lenght of tuple{num}: \"))\n",
    "    for i in range(lenght):\n",
    "        retuple.append(int(input(f\"element {i+1} for tuple{num}: \")))\n",
    "    return tuple(retuple)\n",
    "\n",
    "tuple1 = gettuple(1)\n",
    "tuple2 = gettuple(2)\n",
    "\n",
    "        \n",
    "def tuple_difference(tuple1, tuple2):\n",
    "    tuple3=[]\n",
    "    for i in tuple1:\n",
    "        if i not in tuple2:\n",
    "            tuple3.append(i)\n",
    "    for i in tuple2:\n",
    "        if i not in tuple1:\n",
    "            tuple3.append(i)\n",
    "    return tuple(tuple3)\n",
    "\n",
    "print(\"The first tuple: \", tuple1)\n",
    "print(\"The second tuple: \",tuple2)\n",
    "difference = tuple_difference(tuple1, tuple2) # Define a function with the name: tuple_difference() first which returns the difference as a tuple\n",
    "print(\"The diffent elements between both tuples are: \", difference)  "
   ]
  },
  {
   "cell_type": "markdown",
   "id": "ea22d67a",
   "metadata": {},
   "source": [
    "## Exercise 3\n",
    "Create a Python program to manage a grade book. The program should use **only a single list of tuples**.\n",
    "\n",
    "- Create a list of tuples.\n",
    "- Create a loop that asks the user for the name and grade of a student until the user enters \"q\" to quit. For each student, append their name and grade as a tuple to the list of tuples. \n",
    "- After the list is created, find the students with grades above 90 and calculate the average score **and that computation must be done with list comprehension**\n",
    "\n",
    "Note: Make sure to handle errors such as invalid input from the user.\n",
    "\n",
    "**IMPORTANT: If you use two lists to store student names and grades your score will be 0**\n"
   ]
  },
  {
   "cell_type": "code",
   "execution_count": 39,
   "id": "257c7e9c",
   "metadata": {},
   "outputs": [
    {
     "name": "stdout",
     "output_type": "stream",
     "text": [
      "name1: Eren\n",
      "Eren's grade: 93\n",
      "name2: Deniz\n",
      "Deniz's grade: 94\n",
      "name3: q\n",
      "Average for above90grades is: 93.5\n"
     ]
    }
   ],
   "source": [
    "a=1\n",
    "listoftuple=[]\n",
    "def get_name(num):\n",
    "    global a\n",
    "    name=input(f\"name{num}: \")\n",
    "    if name==\"q\":\n",
    "        return None\n",
    "    else:\n",
    "        grade=int(input(f\"{name}'s grade: \"))\n",
    "        a+=1\n",
    "        listoftuple.append((name, grade))\n",
    "        return (name, grade)\n",
    "# initialize empty lists for students and grades\n",
    "while True:\n",
    "    if get_name(a)==None:\n",
    "        #print(listoftuple) kontrol etmek için yazdım\n",
    "        \n",
    "        break\n",
    "    \n",
    "above90=[y for (x,y) in listoftuple if y>90]    \n",
    "average=sum(above90)/len(above90)\n",
    "print(\"Average for above90grades is:\",average)\n",
    "\n",
    "\n",
    "\n"
   ]
  },
  {
   "cell_type": "code",
   "execution_count": null,
   "id": "927e7d8a",
   "metadata": {},
   "outputs": [],
   "source": []
  }
 ],
 "metadata": {
  "kernelspec": {
   "display_name": "Python 3 (ipykernel)",
   "language": "python",
   "name": "python3"
  },
  "language_info": {
   "codemirror_mode": {
    "name": "ipython",
    "version": 3
   },
   "file_extension": ".py",
   "mimetype": "text/x-python",
   "name": "python",
   "nbconvert_exporter": "python",
   "pygments_lexer": "ipython3",
   "version": "3.11.5"
  }
 },
 "nbformat": 4,
 "nbformat_minor": 5
}
