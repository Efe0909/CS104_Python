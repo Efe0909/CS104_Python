{
 "cells": [
  {
   "cell_type": "markdown",
   "id": "ee0f95ee",
   "metadata": {},
   "source": [
    "# CS104 - Lab5 exercises\n",
    "Eren Veli Acar"
   ]
  },
  {
   "cell_type": "markdown",
   "id": "d8b7043e",
   "metadata": {},
   "source": [
    "### Exercise 1:\n",
    "\n",
    "Write a Python program that produce the following output by using a function. Your function should take the number of lines as a parameter. Note that the number of lines is equal to the number of stars in the first line. In each line, the number of stars decreases by 1 until a triangular shape is produced. You should get the number of lines as a user input and use for loops to print the necessary number of lines and stars. You can use print(, end=””) to print without going down to the newline.\n",
    "\n",
    "<code>\n",
    "*****\n",
    "****\n",
    "***\n",
    "**\n",
    "* \n",
    "</code>\n",
    "\n"
   ]
  },
  {
   "cell_type": "code",
   "execution_count": 50,
   "id": "a57bf628",
   "metadata": {},
   "outputs": [
    {
     "name": "stdout",
     "output_type": "stream",
     "text": [
      "how many lines: 5\n",
      "*****\n",
      "****\n",
      "***\n",
      "**\n",
      "*\n"
     ]
    }
   ],
   "source": [
    "num=int(input(\"how many lines: \"))\n",
    "def star(num):\n",
    "    for i in range(num,0,-1):\n",
    "        print(\"*\"*i)#nested loop yerine böyle yaptım\n",
    "star(num)\n",
    "\n",
    "\n",
    "\n"
   ]
  },
  {
   "cell_type": "markdown",
   "id": "26bd90ab",
   "metadata": {},
   "source": [
    "###### Exercise 2\n",
    "\n",
    "Write a Python program that implements a function called factorial. This function should take an integer input as a parameter and print its factorial. You should take an input value from a user by using the <code>input()</code> function in your main program (after defining the function).\n",
    "\n",
    "As an example, for n=5, your code should produce the following output:\n",
    "<code>Factorial of 5 is 120</code>"
   ]
  },
  {
   "cell_type": "code",
   "execution_count": 9,
   "id": "c7f48184",
   "metadata": {},
   "outputs": [
    {
     "name": "stdout",
     "output_type": "stream",
     "text": [
      "n!: 0\n",
      "Factorial of 0 is 1\n"
     ]
    }
   ],
   "source": [
    "num=int(input(\"n!: \"))\n",
    "def factorial(num):\n",
    "    result=1\n",
    "    for i in range(1,num+1):\n",
    "        result*=i\n",
    "    print(f\"Factorial of {num} is {result}\")\n",
    "factorial(num)\n",
    "\n",
    "        \n",
    "\n",
    "\n"
   ]
  },
  {
   "cell_type": "markdown",
   "id": "caa9a449",
   "metadata": {},
   "source": [
    "### Exercise 3\n",
    "\n",
    "Write a Python program that defines a function called <code>isPrimeNumber()</code> which takes a non negative integer number as its argument and returns whether the number is prime or not. \n",
    "\n",
    "For example, when you call <code>isPrimeNumber(4)</code>, it should return False, and when you call <code>isPrimeNumber(7)</code>, it should return True."
   ]
  },
  {
   "cell_type": "code",
   "execution_count": 49,
   "id": "3bd10e2a",
   "metadata": {},
   "outputs": [
    {
     "name": "stdout",
     "output_type": "stream",
     "text": [
      "True\n"
     ]
    }
   ],
   "source": [
    "def isPrimeNumber(a):\n",
    "    checker=0\n",
    "    if a==2:\n",
    "        return True\n",
    "    elif a<2:\n",
    "        return False\n",
    "    else:\n",
    "        for i in range(1,a+1):\n",
    "            if a%i==0:\n",
    "                checker+=1\n",
    "        if checker>2:\n",
    "            return False\n",
    "        else:\n",
    "            return True\n",
    "print(isPrimeNumber(5))\n",
    "\n",
    "            \n",
    "            \n",
    "            \n",
    "    \n",
    "\n",
    "\n"
   ]
  },
  {
   "cell_type": "markdown",
   "id": "f21d7827",
   "metadata": {},
   "source": [
    "### Exercise 4\n",
    "Write a Python program that calculates and prints the sum of all even and odd numbers in a given range. Your program will take upper and lower values of the range as inputs from the user.  \n",
    "\n",
    "Example run:  \n",
    "<code>Enter the lower value of the range:>? 1  \n",
    "Enter the upper value of the range:>? 20  </code>\n",
    "\n",
    "The output should give the sum of all the even numbers between 1 and 20 as 110 and the sum of all the odd numbers as 100 in the following format:\n",
    "\n",
    "<code>The sum of even numbers between 1 and 20 is 110 and odd numbers is 100 </code>"
   ]
  },
  {
   "cell_type": "code",
   "execution_count": 38,
   "id": "4bb76565",
   "metadata": {},
   "outputs": [
    {
     "name": "stdout",
     "output_type": "stream",
     "text": [
      "Enter the lower value of the range: 1\n",
      "Enter the upper value of the range: 10\n",
      "The sum of even numbers between 1 and 10 is 30 and odd numbers is 25\n"
     ]
    }
   ],
   "source": [
    "lower=int(input(\"Enter the lower value of the range: \"))\n",
    "upper=int(input(\"Enter the upper value of the range: \"))\n",
    "if lower%2==0:\n",
    "    #starting with even\n",
    "    even=0\n",
    "    odd=0\n",
    "    for i in range(lower,upper+1,2):\n",
    "        even+=i\n",
    "    for i in range(lower+1,upper+1,2):\n",
    "        odd+=i\n",
    "    print(f\"The sum of even numbers between {lower} and {upper} is {even} and odd numbers is {odd}\")\n",
    "else:\n",
    "    #starting odd\n",
    "    even=0\n",
    "    odd=0\n",
    "    for i in range(lower,upper+1,2):\n",
    "        odd+=i\n",
    "    for i in range(lower+1,upper+1,2):\n",
    "        even+=i\n",
    "    print(f\"The sum of even numbers between {lower} and {upper} is {even} and odd numbers is {odd}\")\n"
   ]
  },
  {
   "cell_type": "markdown",
   "id": "0138e187",
   "metadata": {},
   "source": [
    "### Exercise 5\n",
    "Write a Python program that uses either for loops or nested for loops to generate the following pattern: \n",
    " 1 2 3 2 1 1 2 1 1\n",
    "\n",
    "Note that the whole pattern appears in a single line. You can use print(, end=””) to print the given input without going down to the newline.\n"
   ]
  },
  {
   "cell_type": "code",
   "execution_count": 48,
   "id": "de5b8d20",
   "metadata": {},
   "outputs": [
    {
     "name": "stdout",
     "output_type": "stream",
     "text": [
      "1 2 3 2 1 1 2 1 1 "
     ]
    }
   ],
   "source": [
    "def pattern(num):\n",
    "    for num2 in range(num,0,-1):\n",
    "        for i in range(1,num2+1):\n",
    "            print(i, end=\" \")\n",
    "        for i in range(num2-1,0,-1):\n",
    "            print(i, end=\" \")\n",
    "pattern(3)\n",
    "\n",
    "\n",
    "        \n",
    "            \n",
    "        \n",
    "    \n",
    "\n",
    "\n"
   ]
  },
  {
   "cell_type": "code",
   "execution_count": null,
   "id": "23006b40",
   "metadata": {},
   "outputs": [],
   "source": []
  }
 ],
 "metadata": {
  "kernelspec": {
   "display_name": "Python 3 (ipykernel)",
   "language": "python",
   "name": "python3"
  },
  "language_info": {
   "codemirror_mode": {
    "name": "ipython",
    "version": 3
   },
   "file_extension": ".py",
   "mimetype": "text/x-python",
   "name": "python",
   "nbconvert_exporter": "python",
   "pygments_lexer": "ipython3",
   "version": "3.11.5"
  }
 },
 "nbformat": 4,
 "nbformat_minor": 5
}
