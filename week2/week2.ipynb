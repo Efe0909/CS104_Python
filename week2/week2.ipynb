{
 "cells": [
  {
   "cell_type": "code",
   "execution_count": 1,
   "id": "a59a975f",
   "metadata": {},
   "outputs": [
    {
     "name": "stdout",
     "output_type": "stream",
     "text": [
      "  *  \n",
      " *** \n",
      "*****\n",
      " *** \n",
      "  *  \n"
     ]
    }
   ],
   "source": [
    "# [Eren Veli Acar], CS 104, Spring 2024\n",
    "# This program [lab1].\n",
    "print(\"  *  \")\n",
    "print(\" *** \")\n",
    "print(\"*****\")\n",
    "print(\" *** \")\n",
    "print(\"  *  \")"
   ]
  },
  {
   "cell_type": "code",
   "execution_count": 4,
   "id": "824de864",
   "metadata": {},
   "outputs": [
    {
     "name": "stdout",
     "output_type": "stream",
     "text": [
      " /\\_/\\ \n",
      "/ o o \\\n",
      "\\  ~  /\n",
      "HELLO EREN!\n"
     ]
    }
   ],
   "source": [
    "print(\" /\\\\_/\\\\ \")\n",
    "print(\"/ o o \\\\\")\n",
    "print(\"\\\\  ~  /\")\n",
    "print(\"HELLO EREN!\")"
   ]
  },
  {
   "cell_type": "code",
   "execution_count": 8,
   "id": "c2e4962f",
   "metadata": {},
   "outputs": [
    {
     "name": "stdout",
     "output_type": "stream",
     "text": [
      "Enter the value of x to calculate the sum of values between 1 and x:3\n",
      "The sum of values between 1 and 3 is 6\n"
     ]
    }
   ],
   "source": [
    "x=int(input(\"Enter the value of x to calculate the sum of values between 1 and x:\"))\n",
    "print(f\"The sum of values between 1 and {x} is\",int(x*(x+1)/2))\n",
    "        \n",
    "\n"
   ]
  },
  {
   "cell_type": "code",
   "execution_count": 9,
   "id": "abe6ef9f",
   "metadata": {},
   "outputs": [
    {
     "name": "stdout",
     "output_type": "stream",
     "text": [
      "Enter the Centigrade value: 100\n",
      "100 Centigrade is converted to 212.0 Fahrenheit\n"
     ]
    }
   ],
   "source": [
    "centigrade=int(input(\"Enter the Centigrade value: \"))\n",
    "fahrenheit=(centigrade*9/5)+32\n",
    "print(f\"100 Centigrade is converted to {fahrenheit} Fahrenheit\")\n"
   ]
  },
  {
   "cell_type": "code",
   "execution_count": 10,
   "id": "50b6e512",
   "metadata": {},
   "outputs": [
    {
     "name": "stdout",
     "output_type": "stream",
     "text": [
      "The value of S is 537.0\n"
     ]
    }
   ],
   "source": [
    "#finding S\n",
    "s0=12\n",
    "v0=3.5\n",
    "a=9.8\n",
    "t=10\n",
    "print(\"The value of S is\",s0+v0*t+a*(t**2)/2)"
   ]
  },
  {
   "cell_type": "code",
   "execution_count": 16,
   "id": "87d6de18",
   "metadata": {},
   "outputs": [
    {
     "name": "stdout",
     "output_type": "stream",
     "text": [
      "Tasdelen: 9533.333333333334\n",
      "Cekmekoy: 11000.0\n",
      "Uskudar: 13200.0\n",
      "Kadikoy: 14666.666666666666\n"
     ]
    }
   ],
   "source": [
    "tasdelen=26000\n",
    "cekmekoy=30000\n",
    "uskudar=36000\n",
    "kadikoy=40000\n",
    "print(\"Tasdelen:\",(tasdelen+(tasdelen/10))/3)\n",
    "print(\"Cekmekoy:\",(cekmekoy+(cekmekoy/10))/3)\n",
    "print(\"Uskudar:\",(uskudar+(uskudar/10))/3)\n",
    "print(\"Kadikoy:\",(kadikoy+(kadikoy/10))/3)"
   ]
  },
  {
   "cell_type": "code",
   "execution_count": null,
   "id": "bf08fe8d",
   "metadata": {},
   "outputs": [],
   "source": []
  }
 ],
 "metadata": {
  "kernelspec": {
   "display_name": "Python 3 (ipykernel)",
   "language": "python",
   "name": "python3"
  },
  "language_info": {
   "codemirror_mode": {
    "name": "ipython",
    "version": 3
   },
   "file_extension": ".py",
   "mimetype": "text/x-python",
   "name": "python",
   "nbconvert_exporter": "python",
   "pygments_lexer": "ipython3",
   "version": "3.11.5"
  }
 },
 "nbformat": 4,
 "nbformat_minor": 5
}
