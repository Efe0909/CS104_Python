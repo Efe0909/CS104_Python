{
 "cells": [
  {
   "cell_type": "markdown",
   "id": "2c951b4d",
   "metadata": {},
   "source": [
    "# CS104 - Lab4 exercises"
   ]
  },
  {
   "cell_type": "markdown",
   "id": "60ecb082",
   "metadata": {},
   "source": [
    "Eren Veli Acar "
   ]
  },
  {
   "cell_type": "markdown",
   "id": "5d145522",
   "metadata": {},
   "source": [
    "### Exercise 1\n",
    "\n",
    "You will implement a simple calculator program in this exercise. Your program will retrieve two floating numbers and one of the four basic operators (addition, subtraction, multiplication, division) from a user and will print the result to the screen. \n",
    "\n",
    "You can use input() method to obtain all the required inputs. \n",
    "\n",
    "If the user enters an operation name which is not one of the four basic operators (i.e., if the user enters some different operator than addition, subtraction, multiplication or division), your program should inform the user by stating that the entered operation name is not valid. "
   ]
  },
  {
   "cell_type": "code",
   "execution_count": 11,
   "id": "c690661f",
   "metadata": {},
   "outputs": [
    {
     "name": "stdout",
     "output_type": "stream",
     "text": [
      "number1: 5\n",
      "number2: 5\n",
      "which operation? division\n",
      "1.0\n"
     ]
    }
   ],
   "source": [
    "num1=float(input(\"number1: \"))\n",
    "num2=float(input(\"number2: \"))\n",
    "operation=input(\"which operation? \")\n",
    "if operation==\"addition\":\n",
    "    print(num1+num2)\n",
    "elif operation==\"subtraction\":\n",
    "    print(num1-num2)\n",
    "elif operation==\"multiplication\":\n",
    "    print(num1*num2)\n",
    "elif operation==\"division\":\n",
    "    print(num1/num2)\n",
    "else:\n",
    "    print(\"entered operation name is not valid!\")\n",
    "\n",
    "\n",
    "\n",
    "\n"
   ]
  },
  {
   "cell_type": "markdown",
   "id": "21b2bf15",
   "metadata": {},
   "source": [
    "### Exercise 2  \n",
    "\n",
    "In this exercise, you will implement a function that informs the user about a particular depth in the ocean.\n",
    "\n",
    "Implement a function namely ``` depth_layer(depth)``` , which takes the depth as its argument, and it will return the name of the layer according to the given depth to the main program. Print the name of the layer in your main program. Name of the layer must be one of the following:\n",
    "\n",
    "- Epipelagic zone\n",
    "\n",
    "- Mesopelagic zone\n",
    "\n",
    "- Bathypelagic zone\n",
    "\n",
    "- Abyssopelagic zone\n",
    "\n",
    "- Hadalpelagic zone\n",
    "\n",
    "\n",
    "You should get the depth in meters from the user (Note that the input must be a negative number. For example -300 is in \"Mesopelagic Zone\")  \n",
    "\n",
    "Steps to follow:\n",
    "\n",
    "- implement your function and return the zone name as string\n",
    "- call your implemented function in your main program and save the returned zone name as a string variable.\n",
    "- print that string variable at the end of your main program\n",
    "\n",
    "![Depth Layers](https://www.sciencefacts.net/wp-content/uploads/2021/02/Layers-of-the-Ocean.jpg \"Layers of the Ocean\")\n"
   ]
  },
  {
   "cell_type": "code",
   "execution_count": 13,
   "id": "9790efd4",
   "metadata": {},
   "outputs": [
    {
     "name": "stdout",
     "output_type": "stream",
     "text": [
      "depth? -5000\n",
      "Abyssopelagic zone\n"
     ]
    }
   ],
   "source": [
    "depth=int(input(\"depth? \"))\n",
    "def depth_layer(depth):\n",
    "    if -200<depth<=0:\n",
    "        return \"Epipelagic zone\"\n",
    "    elif -1000<depth<=-200:\n",
    "        return \"Mesopelagic zone\"\n",
    "    elif -4000<depth<=-1000:\n",
    "        return \"Bathypelagic zone\"\n",
    "    elif -6000<depth<=-4000:\n",
    "        return \"Abyssopelagic zone\"\n",
    "    elif -11000<depth<=-6000:\n",
    "        return \"Hadalpelagic zone\"\n",
    "    else:\n",
    "        return \"invalid zone!\"\n",
    "\n",
    "zone=depth_layer(depth)\n",
    "print(zone)\n",
    "\n",
    "\n",
    "\n"
   ]
  },
  {
   "cell_type": "markdown",
   "id": "26dca456",
   "metadata": {},
   "source": [
    "### Exercise 3\n",
    "\n",
    "Write a Python program that has a function called ``` season(month, day) ```  which takes two integers as its parameters representing a month and day, in that order. Then, it returns the name of the season for that given month and day. \n",
    "\n",
    "Assume that the month is specified as an integer number between 1 (for January) and 12 (for December). Likewise, the day of the month is represented by an integer number between 1 and 31 (you may consider each month has 31 days, for simplicity).\n",
    "\n",
    "- If the given date falls between 12/16 (December/16) and 3/15 (March/15), the method should return “winter”.\n",
    "\n",
    "\n",
    "- If the date falls between 3/16 (March/16) and 6/15 (June/15), the method should return “spring”.  \n",
    "\n",
    "\n",
    "- If the date falls between 6/16 (June/16) and 9/15 (September/15), the method should return “summer”.  \n",
    "\n",
    "\n",
    "- And, finally, if the date falls between 9/16 (September/16) and 12/15 (December/15), the method should return “fall”.  \n",
    "\n",
    "Your season functiom should use conditional statements (e.g., if/else if/…) to determine the result. Your program should prompt for month and day values to be entered by the user, by using input() function, and check the input (day should be between 1 and 31 and month should be between 1 and 12). Then, print the season for the given month and day."
   ]
  },
  {
   "cell_type": "code",
   "execution_count": 6,
   "id": "addb7aee",
   "metadata": {},
   "outputs": [
    {
     "name": "stdout",
     "output_type": "stream",
     "text": [
      "month? 4\n",
      "day? 30\n",
      "spring\n"
     ]
    }
   ],
   "source": [
    "month=int(input(\"month? \"))\n",
    "day=int(input(\"day? \"))\n",
    "def season(month, day):\n",
    "    if month==3:\n",
    "        if day<16:\n",
    "            return \"winter\"\n",
    "        else:\n",
    "            return \"spring\"\n",
    "    elif month==6:\n",
    "        if day<16:\n",
    "            return \"spring\"\n",
    "        else:\n",
    "            return \"summer\"\n",
    "    elif month==9:\n",
    "        if day<16:\n",
    "            return \"summer\"\n",
    "        else:\n",
    "            return \"fall\"\n",
    "    elif month==12:\n",
    "        if day<16:\n",
    "            return \"fall\"\n",
    "        else:\n",
    "            return \"winter\"\n",
    "    elif 0<month<3:\n",
    "        return \"winter\"\n",
    "    elif 3<month<6:\n",
    "        return \"spring\"\n",
    "    elif 6<month<9:\n",
    "        return \"summer\"\n",
    "    elif 9<month<12:\n",
    "        return \"fall\"\n",
    
    "if 0<month<13 and 0<day<32:\n",
    "    print(season(month, day))\n",
    "\n",
    "\n"
   ]
  },
  {
   "cell_type": "markdown",
   "id": "6e924759",
   "metadata": {},
   "source": [
    "### Exercise 4\n",
    "\n",
    "Write a Python program which accepts three numbers from the user and prints the minimum value, middle value and maximum value of those entered three numbers.   \n",
    "\n",
    "- You should obtain these 3 numbers from the user in your main program  \n",
    "\n",
    "\n",
    "- You should find the minimum, middle and maximum number in the function findMinMidMax which takes 3 numbers as parameters (You cannot use built-in min and max functions).  \n",
    "\n",
    "\n",
    "- findMinMidMax function should return minimum, middle and maximum numbers in the given order.  \n",
    "\n",
    "\n",
    "- print minimum, middle and maximum in your main program.  \n",
    "\n",
    "<b>Hint</b>  \n",
    "One approach could be as follows: In your findMinMidMax function, assign number1 as the minimum and check if number1 is greater than number2. If so then your new minimum will be number2. Do the same for number3 to check is number 3 is smaller than number2. Use the same approach to find the maximum. And at last the middle number will be the one which is not minimum or maximum. Return minimum, middle and maximum numbers (in order) to your main program and print them."
   ]
  },
  {
   "cell_type": "code",
   "execution_count": 17,
   "id": "0fd9d5e6",
   "metadata": {
    "scrolled": true
   },
   "outputs": [
    {
     "name": "stdout",
     "output_type": "stream",
     "text": [
      "number1: 4\n",
      "number2: 7\n",
      "number3: 8\n",
      "(4.0, 7.0, 8.0)\n"
     ]
    }
   ],
   "source": [
    "num1=float(input(\"number1: \"))\n",
    "num2=float(input(\"number2: \"))\n",
    "num3=float(input(\"number3: \"))\n",
    "def findMinMidMax(num1, num2, num3):\n",
    "    #find the smallest\n",
    "    if num1<num2 and num1<num3:\n",
    "        minimum=num1\n",
    "    elif num2<num3 and num2<num1:\n",
    "        minimum=num2\n",
    "    else:\n",
    "        minimum=num3\n",
    "    #find the largest\n",
    "    if num1>num2 and num1>num3:\n",
    "        maximum=num1\n",
    "    elif num2>num3 and num2>num1:\n",
    "        maximum=num2\n",
    "    else:\n",
    "        maximum=num3\n",
    "    #finding the middle\n",
    "    if maximum==num1 and minimum==num2:\n",
    "        middle=num3\n",
    "    elif maximum==num2 and minimum==num1:\n",
    "        middle=num3\n",
    "    elif maximum==num3 and minimum==num1:\n",
    "        middle=num2\n",
    "    elif maximum==num1 and minimum==num3:\n",
    "        middle=num2\n",
    "    elif maximum==num2 and minimum==num3:\n",
    "        middle=num1\n",
    "    elif maximum==num3 and minimum==num2:\n",
    "        middle=num1\n",
    "    return minimum, middle, maximum\n",
    "print(findMinMidMax(num1, num2, num3))\n",
    "\n",
    "\n",
    "\n",
    "\n"
   ]
  },
  {
   "cell_type": "markdown",
   "id": "38dd77d9",
   "metadata": {},
   "source": []
  },
  {
   "cell_type": "code",
   "execution_count": null,
   "id": "57396d7a",
   "metadata": {},
   "outputs": [],
   "source": []
  }
 ],
 "metadata": {
  "kernelspec": {
   "display_name": "Python 3 (ipykernel)",
   "language": "python",
   "name": "python3"
  },
  "language_info": {
   "codemirror_mode": {
    "name": "ipython",
    "version": 3
   },
   "file_extension": ".py",
   "mimetype": "text/x-python",
   "name": "python",
   "nbconvert_exporter": "python",
   "pygments_lexer": "ipython3",
   "version": "3.11.5"
  }
 },
 "nbformat": 4,
 "nbformat_minor": 5
}
