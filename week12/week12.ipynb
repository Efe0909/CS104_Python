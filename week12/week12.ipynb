{
 "cells": [
  {
   "attachments": {},
   "cell_type": "markdown",
   "id": "5e7ce9da",
   "metadata": {},
   "source": [
    "# CS 104 Spring 2024 - Lab Assignments - Week 12 - Assignment 10"
   ]
  },
  {
   "attachments": {},
   "cell_type": "markdown",
   "id": "942a5c46",
   "metadata": {},
   "source": [
    "Your programs should start with the following comments: \n",
    "\n",
    "    (do not forget to change “[Your Fullname]” with your name, and “[short description]” \n",
    "     to a sentence that highlights the task to be performed by the program) \n",
    "your outputs as given in the exercise.\n",
    "\n",
    "# [Eren Veli Acar], CS 104, LAB Week 12, Assignment 10\n"
   ]
  },
  {
   "attachments": {},
   "cell_type": "markdown",
   "id": "00e1b93e",
   "metadata": {},
   "source": [
    "### Exercise 1: \n",
    "\n",
    "Write a function that implements linear search on a given list. This function should take a number to be searched in the list, and the list itself as inputs and return true if the number is found in the list, otherwise return false. Also, measure the time needed to run this function.\n",
    "\n",
    "You should create a list that contains 10,000 random elements in it (hint: you can use random.randint() function from random module). \n"
   ]
  },
  {
   "cell_type": "code",
   "execution_count": 1,
   "id": "423c3574",
   "metadata": {},
   "outputs": [
    {
     "name": "stdout",
     "output_type": "stream",
     "text": [
      "6860 in list1!\n",
      "The time needed to run this function: 0.00038909912109375\n"
     ]
    }
   ],
   "source": [
    "# Your answer for Exercise 1\n",
    "import random\n",
    "import time\n",
    "\n",
    "\n",
    "list1=[]\n",
    "for i in range(10000):\n",
    "    list1.append(random.randint(1,10000))\n",
    "def linearSearch(list1, key):\n",
    "    for i in range(len(list1)):\n",
    "        if list1[i] == key:\n",
    "            return True\n",
    "    return False\n",
    "#print(list1)\n",
    "timestart=time.time()\n",
    "number=random.randint(1,10000)\n",
    "result=linearSearch(list1,number)\n",
    "timeend=time.time()\n",
    "if result==1:\n",
    "    print(f\"{number} in list1!\")\n",
    "else:\n",
    "    print(f\"{number} not in list1!\")\n",
    "print(\"The time needed to run this function:\",(timestart-timeend)*-1)\n",
    "\n"
   ]
  },
  {
   "attachments": {},
   "cell_type": "markdown",
   "id": "e3c55b63",
   "metadata": {},
   "source": [
    "### Exercise 2: \n",
    "\n",
    "Assume that you are given a sorted list of strings called string_list, and a target string called target. Implement a Python function binary_search_string(string_list, target) that performs a binary search to find the index of the target string in the given list. If the target string is found, the function should return its index; otherwise, it should return -1.\n",
    "\n",
    "Ensure that your function handles cases where the target string is not present in the list properly, returning -1 in such cases. Additionally, remember to consider the list being sorted in lexicographical order (i.e. apple exist in lower indexes in the list than banana which exist in higher indexes in the list)."
   ]
  },
  {
   "cell_type": "code",
   "execution_count": 38,
   "id": "9026a30a",
   "metadata": {},
   "outputs": [
    {
     "name": "stdout",
     "output_type": "stream",
     "text": [
      "3\n",
      "The time needed to run this function: 0.0005223751068115234\n"
     ]
    }
   ],
   "source": [
    "# Your answer for Exercise 2\n",
    "import time\n",
    "def binary_search_string(string_list, target):\n",
    "    low=0\n",
    "    high=len(string_list)-1\n",
    "    mid=0\n",
    "\n",
    "    while low<=high:\n",
    "        mid=(high+low)//2\n",
    "        if string_list[mid]<target:\n",
    "            low=mid+1\n",
    "        elif string_list[mid]>target:\n",
    "            high=mid-1\n",
    "        else:\n",
    "            return mid\n",
    "    return -1\n",
    "\n",
    "        \n",
    "# Example usage:\n",
    "string_list = [\"apple\", \"appricot\", \"avokado\", \"banana\", \"cherry\", \"melon\", \"paisley\", \"watermelon\"]\n",
    "target = \"banana\"\n",
    "timestart=time.time()\n",
    "print(binary_search_string(string_list, target))\n",
    "timeend=time.time()\n",
    "print(\"The time needed to run this function:\",(timestart-timeend)*-1)"
   ]
  },
  {
   "attachments": {},
   "cell_type": "markdown",
   "id": "a6c9b327",
   "metadata": {},
   "source": [
    "### Exercise 3: \n",
    "\n",
    "Write the recursive version of the code that you write in Exercise 2. Hint: Your function signature should be as follows: binary_search_string(string_list, target, low, high)."
   ]
  },
  {
   "cell_type": "code",
   "execution_count": 33,
   "id": "4130cb05",
   "metadata": {},
   "outputs": [
    {
     "name": "stdout",
     "output_type": "stream",
     "text": [
      "4\n"
     ]
    }
   ],
   "source": [
    "def binary_search_string(string_list, target, low, high):\n",
    "    if high>=low:\n",
    "        mid=(high+low)//2\n",
    "        if string_list[mid]==target:\n",
    "            return mid\n",
    "        elif string_list[mid]>target:\n",
    "            return binary_search_string(string_list, target, low, mid-1)\n",
    "        else:\n",
    "            return binary_search_string(string_list, target, mid+1, high)\n",
    "    else:\n",
    "        return -1\n",
    "\n",
    "# Example usage:\n",
    "string_list = [\"apple\", \"apricot\", \"avocado\", \"banana\", \"cherry\", \"melon\", \"paisley\", \"watermelon\"]\n",
    "target = \"cherry\"\n",
    "print(binary_search_string(string_list, target, 0, len(string_list) - 1))  # Output: 3"
   ]
  },
  {
   "attachments": {},
   "cell_type": "markdown",
   "id": "2696115e",
   "metadata": {},
   "source": [
    "### Exercise 4: \n",
    "\n",
    "Write a python program to count the occurrences of one string in another string and display it to the user in the desired format. Follow the given steps to get a valid mark:\n",
    "\n",
    "Prompt the user to enter two strings str1 and str2 as arguments.\n",
    "Define a recursive function named as countSubStr(str1, str2) where str1 and str2 are strings. The function should calculate the occurrences of the str2 in str1 and return it as an integer. \n",
    "Display the output in the main function as given below.\n",
    "\t\n",
    "SAMPLE RUN 1:  \n",
    "str1: ATGCATGACAGCAT (Input)  \n",
    "str2: ATG (Input)  \n",
    "ATG occurs in ATGCATGACAGCAT 2 times (Output)  \n",
    "\n",
    "SAMPLE RUN 2:  \n",
    "str1: aaaaa (Input)  \n",
    "str2: aaa (Input)  \n",
    "aaa occurs in aaaaa 3 times (Output)  \n"
   ]
  },
  {
   "cell_type": "code",
   "execution_count": 37,
   "id": "c3c9de6f",
   "metadata": {},
   "outputs": [
    {
     "name": "stdout",
     "output_type": "stream",
     "text": [
      "str1: ATGCATGACAGCAT \n",
      "str2: ATG\n",
      "ATG occurs in ATGCATGACAGCAT  2 times\n"
     ]
    }
   ],
   "source": [
    "# Your answer for Exercise 4\n",
    "def countSubStr(str1, str2):\n",
    "    if len(str1) < len(str2):\n",
    "        return 0\n",
    "    elif str1[:len(str2)] == str2:\n",
    "        return 1 + countSubStr(str1[len(str2):], str2)\n",
    "    else:\n",
    "        return countSubStr(str1[1:], str2)\n",
    "\n",
    "def main():\n",
    "    str1 = input(\"str1: \")  # Prompting user for input\n",
    "    str2 = input(\"str2: \")  # Prompting user for input\n",
    "    count = countSubStr(str1, str2)\n",
    "    print(f\"{str2} occurs in {str1} {count} times\")\n",
    "\n",
    "main()\n",
    "\n"
   ]
  },
  {
   "cell_type": "code",
   "execution_count": null,
   "id": "e53e7dea",
   "metadata": {},
   "outputs": [],
   "source": []
  }
 ],
 "metadata": {
  "kernelspec": {
   "display_name": "Python 3 (ipykernel)",
   "language": "python",
   "name": "python3"
  },
  "language_info": {
   "codemirror_mode": {
    "name": "ipython",
    "version": 3
   },
   "file_extension": ".py",
   "mimetype": "text/x-python",
   "name": "python",
   "nbconvert_exporter": "python",
   "pygments_lexer": "ipython3",
   "version": "3.9.6"
  }
 },
 "nbformat": 4,
 "nbformat_minor": 5
}
