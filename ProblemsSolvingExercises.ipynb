{
 "cells": [
  {
   "cell_type": "markdown",
   "id": "6NCWSpCevfuW",
   "metadata": {
    "id": "6NCWSpCevfuW"
   },
   "source": [
    "# Özyeğin University\n",
    "# CS 104, Week-9 Lab exercises\n",
    "\n",
    "\"Enter your Full Name Here\"\n",
    "\n",
    "\"Enter your Student ID here\""
   ]
  },
  {
   "cell_type": "markdown",
   "id": "598edca0",
   "metadata": {
    "id": "598edca0"
   },
   "source": [
    "### Exercise 1\n",
    "\n",
    "Write a Python program that first defines a function called collapse() and then uses that function. The function collapse() accepts a list of integers as a formal parameter (input) and returns a new list (output) containing the result of replacing each pair of integers with the sum of that pair. \n",
    "\n",
    "For example, if a list called intList stores the values [ 7, 2, 8, 9, 4, 13, 7, 1, 9, 10 ], then the call of collapse(intList) should return a new list containing [ 9, 17, 17, 8, 19 ] where 7+2=9, 8+9=17, 4+13=17, ... The first pair from the original list is collapsed into 9 (7 + 2), the second pair is collapsed into 17 (8 + 9), and so on. HOWEVER, if the total number of elements in the list is an odd number, the final element is not collapsed. For example, if the list had been [ 1, 2, 3, 4, 5 ], then the call would return [ 3, 7, 5 ]. The collapse( ) method **should not** change the list that\n",
    "is passed as a parameter."
   ]
  },
  {
   "cell_type": "code",
   "execution_count": 6,
   "id": "d76abec8",
   "metadata": {
    "id": "d76abec8"
   },
   "outputs": [
    {
     "name": "stdout",
     "output_type": "stream",
     "text": [
      "[9, 17, 17, 8, 19] [9, 17, 17, 8, 19, 3] [9, 17, 17, 8, 19, 5]\n"
     ]
    }
   ],
   "source": [
    "#\n",
    "# Implement the collapse function below according to the definition given above.\n",
    "#\n",
    "\n",
    "def collapse(listofint):\n",
    "    cList=[]\n",
    "    if len(listofint)%2==0:\n",
    "        #if even\n",
    "        #print(\"itseven\") test\n",
    "        how_many_calc=int(len(listofint)/2)\n",
    "        for i in range(0,len(listofint)-1,2):\n",
    "            cList.append(listofint[i]+listofint[i+1])\n",
    "    else:\n",
    "        #if odd\n",
    "        #print(\"itsodd\") test\n",
    "        last=listofint[-1]\n",
    "        newlistforint=listofint[0:len(listofint)-1]\n",
    "        how_many_calc=int(len(newlistforint)/2)\n",
    "        for i in range(0,len(newlistforint)-1,2):\n",
    "            cList.append(newlistforint[i]+newlistforint[i+1])\n",
    "        cList.append(last)\n",
    "    return cList\n",
    "\n",
    "\n",
    "#\n",
    "### If you complete defining the collapse function, then you can test it as shown below.\n",
    "#\n",
    "\n",
    "myList = [7, 2, 8, 9, 4, 13, 7, 1, 9, 10]\n",
    "myList2 = [7, 2, 8, 9, 4, 13, 7, 1, 9, 10,3]\n",
    "myList3 = [7, 2, 8, 9, 4, 13, 7, 1, 9, 10,3,2]\n",
    "newList = collapse(myList)\n",
    "newList2 = collapse(myList2)\n",
    "newList3 = collapse(myList3)\n",
    "print(newList,newList2,newList3)\n",
    "\n",
    "# For the given input list (myList) above,the expected output is: [ 9, 17, 17, 8, 19 ]"
   ]
  },
  {
   "cell_type": "markdown",
   "id": "e47aac80",
   "metadata": {
    "id": "e47aac80"
   },
   "source": [
    "### Exercise 2\n",
    "\n",
    "Write a Python program that reads in a string on the command line and returns a table of the letters of the alphabet in alphabetical order which occur in the string together with the number of times each letter occurs. Case of the letter should be ignored. This should involve writing a function that takes in a string and returns a dictionary with these letters and counts. \n",
    "\n",
    "A sample run of the program would look like:\n",
    "\n",
    "Enter your input sentence >>> The cat in the hat \n",
    "\n",
    "\n",
    "The corresponding output of your program should look like the given table below:\n",
    "\n",
    "| letter \t| frequency \t|\n",
    "|--------\t|-----------\t|\n",
    "|    a    \t|    2       \t|\n",
    "|    c    \t|    1       \t|\n",
    "|    e    \t|    2       \t|\n",
    "|    h      |    3          |\n",
    "|    i      |    1          |\n",
    "|    n      |    1          |\n",
    "|    t      |    4          |\n"
   ]
  },
  {
   "cell_type": "code",
   "execution_count": 7,
   "id": "04a58f93",
   "metadata": {
    "id": "04a58f93"
   },
   "outputs": [
    {
     "name": "stdout",
     "output_type": "stream",
     "text": [
      "Enter your input sentence >>> The cat in the hat\n",
      "| letter | frequency | |---- |------ | a | 2 || c | 1 || e | 2 || h | 3 || i | 1 || n | 1 || t | 4 |"
     ]
    }
   ],
   "source": [
    "x = input(\"Enter your input sentence >>> \")\n",
    "x = x.lower()   # convert to all lowercase\n",
    "\n",
    "# Complete the rest of the code below\n",
    "def letter_freq_counter(string):\n",
    "    newstr=\"\"\n",
    "    for letter in string:\n",
    "        if letter!=\" \":\n",
    "            newstr+=letter\n",
    "            \n",
    "    newdict={}\n",
    "    for letter in newstr:\n",
    "        if letter in newdict:\n",
    "            newdict[letter]=newdict[letter]+1\n",
    "        else:\n",
    "            newdict[letter]=1\n",
    "            \n",
    "    return newdict\n",
    "\n",
    "letterdict=letter_freq_counter(x)\n",
    "\n",
    "print(\"| letter | frequency | |---- |------\", end=\" \")\n",
    "\n",
    "for letter in sorted(letterdict):\n",
    "    print(\"|\",letter,\"|\",letterdict[letter],\"|\",end=\"\")\n",
    "\n",
    "\n"
   ]
  },
  {
   "cell_type": "markdown",
   "id": "1e0d8f80",
   "metadata": {
    "id": "1e0d8f80"
   },
   "source": [
    "### Exercise 3\n",
    "\n",
    "Write a Python program that simulates rolling two six-sided dice 1,000 times and displays a table summarizing the total of two dice by expressing the frequency for each total as a percentage of the number of rolls performed. You can also show expected frequencies together with observed frequencies. \n",
    "\n",
    "See a sample output below:\n",
    "\n",
    "|  Total\t|Simulated Percent  \t|  Expected Percent\t|\n",
    "|---\t|---\t|---\t|\n",
    "| 2 \t| 2.80 \t| 2.78 \t|\n",
    "| 3 \t| 5.50  | 5.56 \t|\n",
    "| 4\t    | 7.30 \t| 8.33 \t|\n",
    "| 5     | 11.60 | 11.11 \t|\n",
    "| 6 \t| 13.50 | 13.89 \t|\n",
    "| 7 \t| 16.30 | 16.67 \t|\n",
    "| 8 \t| 13.60 | 13.89 \t|\n",
    "| 9 \t| 10.70 | 11.11 \t|\n",
    "| 10 \t| 9.30 \t| 8.33 \t|\n",
    "| 11 \t| 6.10 \t| 5.56 \t|\n",
    "| 12 \t| 3.30 \t| 2.78 \t|\n",
    "\n",
    "Design steps can be summarized as below:\n",
    "\n",
    "- Begin by writing a function that simulates rolling a pair of six-sided dice. Your function will not take any input parameters. It will return the total that was rolled on two dice as its only result. \n",
    "- Then, write a main program that uses your function to simulate rolling two six-sided dice 1,000 times. As your program runs, it should count the number of times that each total occurs. \n",
    "- After that, it should display a table that summarizes this data by expressing the frequency for each total as a percentage of the number of rolls performed (as shown in the above sample table)."
   ]
  },
  {
   "cell_type": "code",
   "execution_count": 2,
   "id": "a2c83b39",
   "metadata": {
    "id": "a2c83b39"
   },
   "outputs": [
    {
     "name": "stdout",
     "output_type": "stream",
     "text": [
      "{2: [2.7, 2.78], 3: [6.8, 5.56], 4: [7.9, 8.33], 5: [12.1, 11.11], 6: [13.0, 13.89], 7: [16.3, 16.67], 8: [13.3, 13.89], 9: [11.5, 11.11], 10: [8.5, 8.33], 11: [4.9, 5.56], 12: [3.0, 2.78]}\n",
      "| Total |Simulated Percent | Expected Percent | |--- |--- |--- | | 2 | 2.7 | 2.78 | 3 | 6.8 | 5.56 | 4 | 7.9 | 8.33 | 5 | 12.1 | 11.11 | 6 | 13.0 | 13.89 | 7 | 16.3 | 16.67 | 8 | 13.3 | 13.89 | 9 | 11.5 | 11.11 | 10 | 8.5 | 8.33 | 11 | 4.9 | 5.56 | 12 | 3.0 | 2.78 |"
     ]
    }
   ],
   "source": [
    "import random\n",
    "\n",
    "NUM_RUNS   = 1000\n",
    "D_MAX  = 6\n",
    "\n",
    "def calculateProps():\n",
    "    pDict=dict()\n",
    "    newlist=[]\n",
    "    for d1 in range(1,D_MAX+1):\n",
    "        for d2 in range(1,D_MAX+1):\n",
    "            newlist.append((d1,d2))\n",
    "    \n",
    "    for (x,y) in newlist:\n",
    "        if x+y in pDict:\n",
    "            pDict[x+y]=pDict[x+y]+1\n",
    "        else:\n",
    "            pDict[x+y]=1\n",
    "    \n",
    "    for i in pDict:\n",
    "        pDict[i]=[0,round(round(pDict[i]/len(newlist),4)*100,2)]\n",
    "    return pDict\n",
    "    \n",
    "    \n",
    "def twoDice():\n",
    "    #Simulate rolling two six-sided dice, and return the total from rolling two simulated dice\n",
    "\n",
    "    d1=random.randint(1,6)\n",
    "    d2=random.randint(1,6)\n",
    "    return d1+d2   \n",
    "    \n",
    "# You can now use both of the functions defined above to simulate two six-sided dice 1,000 times and plot the table below\n",
    "# Enter your code below for the simulation below\n",
    "middict=calculateProps()\n",
    "\n",
    "for i in range(NUM_RUNS):\n",
    "    total=twoDice()\n",
    "    middict[total][0]=middict[total][0]+1\n",
    "    \n",
    "for i in middict:\n",
    "    middict[i][0]=round(round(middict[i][0]/NUM_RUNS,4)*100,2)\n",
    "    \n",
    "print(middict)\n",
    "print(\"| Total |Simulated Percent | Expected Percent | |--- |--- |--- |\",end=\" \")\n",
    "for i in middict:\n",
    "    print(\"|\",i,\"|\",middict[i][0],\"|\",middict[i][1],end=\" \")\n",
    "print(\"|\",end=\"\")\n",
    "\n",
    "\n",
    "\n"
   ]
  },
  {
   "cell_type": "code",
   "execution_count": null,
   "id": "446ae26a",
   "metadata": {},
   "outputs": [],
   "source": []
  }
 ],
 "metadata": {
  "colab": {
   "provenance": []
  },
  "kernelspec": {
   "display_name": "Python 3 (ipykernel)",
   "language": "python",
   "name": "python3"
  },
  "language_info": {
   "codemirror_mode": {
    "name": "ipython",
    "version": 3
   },
   "file_extension": ".py",
   "mimetype": "text/x-python",
   "name": "python",
   "nbconvert_exporter": "python",
   "pygments_lexer": "ipython3",
   "version": "3.11.5"
  }
 },
 "nbformat": 4,
 "nbformat_minor": 5
}
