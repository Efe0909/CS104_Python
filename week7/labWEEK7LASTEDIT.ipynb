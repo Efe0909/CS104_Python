{
 "cells": [
  {
   "cell_type": "raw",
   "id": "7002f3bd",
   "metadata": {
    "id": "9kbjcJGsdVyt"
   },
   "source": [
    "# Özyeğin University\n",
    "# CS 104, Week-7 Lab exercises\n",
    "\n",
    "\"Eren Veli Acar\"\n",
    "\n",
    "\"S033362\""
   ]
  },
  {
   "cell_type": "markdown",
   "id": "784d6414",
   "metadata": {
    "id": "784d6414"
   },
   "source": [
    "### Exercise 1\n",
    "- Create a list called top_movies with the following movie titles: \"The Godfather\", \"The Shawshank Redemption\", \"The Dark Knight\", \"The Godfather: Part II\", \"12 Angry Men\"\n",
    "- Print the entire top_movies list\n",
    "- Print the second movie (\"The Shawshank Redemption\") title in top_movies by using its index\n",
    "- Change the third movie title in top_movies to \"Pulp Fiction\"\n",
    "- Print the updated top_movies list\n",
    "- Use a for loop and range() to print each movie title in top_movies on a new line with its corresponding index number in parentheses, starting from 1. \n"
   ]
  },
  {
   "cell_type": "code",
   "execution_count": 2,
   "id": "9affe646",
   "metadata": {
    "id": "9affe646"
   },
   "outputs": [
    {
     "name": "stdout",
     "output_type": "stream",
     "text": [
      "['The Godfather', 'The Shawshank Redemption', 'The Dark Knight', 'The Godfather: Part II', '12 Angry Men']\n",
      "The Shawshank Redemption\n",
      "['The Godfather', 'Pulp Fiction', 'The Dark Knight', 'The Godfather: Part II', '12 Angry Men']\n",
      "The Godfather\n",
      "Pulp Fiction\n",
      "The Dark Knight\n",
      "The Godfather: Part II\n",
      "12 Angry Men\n"
     ]
    }
   ],
   "source": [
    "# Write your program in this cell for Exercise 1.\n",
    "top_movies=[\"The Godfather\", \"The Shawshank Redemption\", \"The Dark Knight\", \"The Godfather: Part II\", \"12 Angry Men\"]\n",
    "print(top_movies)\n",
    "print(top_movies[1])\n",
    "top_movies.pop(1)\n",
    "top_movies.insert(1,\"Pulp Fiction\")\n",
    "print(top_movies)\n",
    "for i in range(len(top_movies)):\n",
    "    print(top_movies[i])\n",
    "\n",
    "\n",
    "\n",
    "\n",
    "    \n",
    "\n"
   ]
  },
  {
   "cell_type": "markdown",
   "id": "76a67eff",
   "metadata": {
    "id": "76a67eff"
   },
   "source": [
    "### Exercise 2\n",
    "\n",
    "Write a Python program that creates an empty list and then prompts the user to enter as many integers as the user likes. The user can enter 'q' to quit entering integer numbers. Append each integer entered to the list. Finally, print the list."
   ]
  },
  {
   "cell_type": "code",
   "execution_count": 6,
   "id": "cdc350ae",
   "metadata": {
    "id": "cdc350ae"
   },
   "outputs": [
    {
     "name": "stdout",
     "output_type": "stream",
     "text": [
      "Please enter an integer number: 3\n",
      "Please enter an integer number: 5\n",
      "Please enter an integer number: 7\n",
      "Please enter an integer number: 9\n",
      "Please enter an integer number: q\n",
      "All the numbers:  ['3', '5', '7', '9']\n"
     ]
    }
   ],
   "source": [
    "# Write your program in this cell for Exercise 2.\n",
    "numlist=[]\n",
    "while True:\n",
    "    \n",
    "    num=input(\"Please enter an integer number: \")\n",
    "    if num==\"q\":\n",
    "        print(\"All the numbers: \",numlist)\n",
    "        break\n",
    "    else:    \n",
    "        numlist.append(num)\n",
    "        \n"
   ]
  },
  {
   "cell_type": "markdown",
   "id": "a75821a6",
   "metadata": {
    "id": "a75821a6"
   },
   "source": [
    "### Exercise 3\n",
    "In this exercise, you will practice slicing and concatenating lists in Python. You will work with a list of numbers, and perform various operations to extract, modify and combine elements of the list.\n",
    "\n",
    "- Create a list named \"numbers\" with the following values: 10, 20, 30, 40, 50, 60, 70, 80, 90, 100.\n",
    "- Print the first three elements of the list.\n",
    "- Print the last three elements of the list.\n",
    "- Print every second element of the list.\n",
    "- Print the sublist containing the elements from index 3 to index 7 (inclusive).\n",
    "- Replace the element at index 2 with the value 25.\n",
    "- Concatenate two copies of the list together, and store the result in a new list named doubled.\n",
    "- Print the first and last elements of the doubled list."
   ]
  },
  {
   "cell_type": "code",
   "execution_count": 17,
   "id": "544ead40",
   "metadata": {
    "id": "544ead40"
   },
   "outputs": [
    {
     "name": "stdout",
     "output_type": "stream",
     "text": [
      "[10, 20, 30]\n",
      "[80, 90, 100]\n",
      "[20, 40, 60, 80, 100]\n",
      "[40, 50, 60, 70, 80]\n",
      "10 100\n"
     ]
    }
   ],
   "source": [
    "# Write your program in this cell for Exercise 3.\n",
    "numbers=[10, 20, 30, 40, 50, 60, 70, 80, 90, 100]\n",
    "print(numbers[:3])\n",
    "print(numbers[7:])\n",
    "print(numbers[1::2])\n",
    "print(numbers[3:8])\n",
    "numbers.pop(2)\n",
    "numbers.insert(2,25)\n",
    "doubled=numbers+numbers\n",
    "print(doubled[0],doubled[-1])\n",
    "\n",
    "\n",
    "\n",
    "\n",
    "\n"
   ]
  },
  {
   "cell_type": "markdown",
   "id": "dce6a756",
   "metadata": {
    "id": "dce6a756"
   },
   "source": [
    "### Exercise 4\n",
    "Create a Python program to manage a grade book. The program should use two lists, one for storing student names and another for storing their corresponding grades.\n",
    "\n",
    "- Create two empty lists: students and grades.\n",
    "- Create a loop that asks the user for the name and grade of a student until the user enters \"q\" to quit. For each student, append their name to the students list and their grade to the grades list.\n",
    "- Create a menu that allows the user to either print the grades of all students or the grade of a specific student. The menu should continue to loop until the user enters \"q\" to quit.\n",
    "- If the user selects \"1\" to print all grades, use a for loop to iterate through the students and grades lists simultaneously and print each student's name and their corresponding grade.\n",
    "- If the user selects \"2\" to print a specific student's grade, ask the user for the name of the student and use the index() function to find the index of the student's name in the students list. Then, use that index to print the student's name and their corresponding grade from the grades list.\n",
    "\n",
    "Note: Make sure to handle errors such as invalid input from the user.\n",
    "\n",
    "**IMPORTANT: DO NOT CHANGE THE GIVEN CODE OR WRITE IT FROM SCRATCH**\n"
   ]
  },
  {
   "cell_type": "code",
   "execution_count": 22,
   "id": "654138ac",
   "metadata": {
    "id": "654138ac",
    "scrolled": true
   },
   "outputs": [
    {
     "name": "stdout",
     "output_type": "stream",
     "text": [
      "Enter student name (q to quit): eren\n",
      "Enter student grade: 100\n",
      "Enter student name (q to quit): deniz\n",
      "Enter student grade: 0\n",
      "Enter student name (q to quit): q\n",
      "\n",
      "Menu:\n",
      "1. Print all grades\n",
      "2. Print a specific student's grade\n",
      "q. Quit\n",
      "Enter your choice: 2\n",
      "please enter the student name: deniz\n",
      "Student name: [ deniz ] and his/her grade is: [ 0 ]\n",
      "\n",
      "Menu:\n",
      "1. Print all grades\n",
      "2. Print a specific student's grade\n",
      "q. Quit\n",
      "Enter your choice: q\n"
     ]
    }
   ],
   "source": [
    "# A partial and incomplete solution is given below for this exercise.\n",
    "# Add to the code below to complete the code and to solve this exercise:  \n",
    "\n",
    "# We assume that grades are entered as integer values only.\n",
    "\n",
    "# initialize empty lists for students and grades\n",
    "students = []\n",
    "grades = []\n",
    "\n",
    "# loop to ask for student names and grades\n",
    "while True:\n",
    "    name = input(\"Enter student name (q to quit): \")\n",
    "    if name == \"q\":\n",
    "        break\n",
    "    grade = int(input(\"Enter student grade: \"))\n",
    "    ##### SOLUTION #######\n",
    "    # add grade and student name to their respective lists below: \n",
    "    students.append(name)\n",
    "    grades.append(grade)\n",
    "    \n",
    "#After the grade book creation, open the menu for printing grades. \n",
    "# menu to print grades\n",
    "while True:\n",
    "    print(\"\\nMenu:\")\n",
    "    print(\"1. Print all grades\")\n",
    "    print(\"2. Print a specific student's grade\")\n",
    "    print(\"q. Quit\")\n",
    "    choice = input(\"Enter your choice: \")\n",
    "    if choice==\"q\":\n",
    "        break\n",
    "    elif choice==\"1\":\n",
    "        for i in range(len(grades)):\n",
    "            print(f\"Student name: [ {students[i]} ] and his/her grade is: [ {grades[i]} ]\")\n",
    "    elif choice==\"2\":\n",
    "        #2\n",
    "        name=input(\"please enter the student name: \")\n",
    "        indexfinder=0\n",
    "        for i in students:\n",
    "            if i==name:\n",
    "                break\n",
    "            else:\n",
    "                indexfinder+=1\n",
    "        print(f\"Student name: [ {students[indexfinder]} ] and his/her grade is: [ {grades[indexfinder]} ]\")\n",
    "    else:\n",
    "        print(\"you entered a wrong option, you can only enter 1, 2 or q\")\n",
    "    \n",
    "\n",
    "    \n",
    "    \n",
    "    \n",
    "    \n",
    "    \n",
    "    "
   ]
  },
  {
   "cell_type": "code",
   "execution_count": null,
   "id": "937a3752",
   "metadata": {},
   "outputs": [],
   "source": []
  }
 ],
 "metadata": {
  "colab": {
   "collapsed_sections": [],
   "provenance": []
  },
  "kernelspec": {
   "display_name": "Python 3 (ipykernel)",
   "language": "python",
   "name": "python3"
  },
  "language_info": {
   "codemirror_mode": {
    "name": "ipython",
    "version": 3
   },
   "file_extension": ".py",
   "mimetype": "text/x-python",
   "name": "python",
   "nbconvert_exporter": "python",
   "pygments_lexer": "ipython3",
   "version": "3.11.5"
  }
 },
 "nbformat": 4,
 "nbformat_minor": 5
}
