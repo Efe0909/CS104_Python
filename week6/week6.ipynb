{
 "cells": [
  {
   "cell_type": "markdown",
   "id": "kY0-3GqWcGHu",
   "metadata": {
    "id": "kY0-3GqWcGHu"
   },
   "source": [
    "# Özyeğin University\n",
    "# CS 104, Week-6 Lab exercises\n",
    "\n"
   ]
  },
  {
   "cell_type": "markdown",
   "id": "ObiRhK0lcwKw",
   "metadata": {
    "id": "ObiRhK0lcwKw"
   },
   "source": [
    "**Lab Requirement:** Use \"*while*\" loops in all questions"
   ]
  },
  {
   "cell_type": "code",
   "execution_count": null,
   "id": "da8105e4",
   "metadata": {},
   "outputs": [],
   "source": [
    "FullNAME = \"Eren Veli Acar\"\n",
    "\n",
    "STUDENTID = \"S033362\"\n",
    "\n"
   ]
  },
  {
   "cell_type": "markdown",
   "id": "0bc133b2",
   "metadata": {
    "id": "0bc133b2"
   },
   "source": [
    "### **Exercise 1: Finding Maximum Number in Fibonacci Series**\n",
    "\n",
    "\n",
    "In this task, you will write a Python function that finds the maximum number in the Fibonacci series that is below a given value using a while loop.\n",
    "\n",
    "- Define a function fibonacci_max(n) that takes a single argument n which is the maximum number to find in the Fibonacci series.\n",
    "- Return a, which is the maximum number in the Fibonacci series that is below n.\n",
    "    \n",
    "**See below for an example (your output should be in the exact format to get full credit):** \n",
    "\n",
    "``\n",
    "The maximum number in Fibonacci series that is below 100 is 89.\n",
    "``\n",
    "    \n",
    "   "
   ]
  },
  {
   "cell_type": "code",
   "execution_count": 21,
   "id": "401d61a1",
   "metadata": {
    "id": "401d61a1"
   },
   "outputs": [
    {
     "name": "stdout",
     "output_type": "stream",
     "text": [
      "maxnum: 100\n",
      "The maximum number in Fibonacci series that is below 100 is 89.\n"
     ]
    }
   ],
   "source": [
    "\n",
    "max=int(input(\"maxnum: \"))\n",
    "def fibonacci_max(max):\n",
    "    a1=1\n",
    "    a2=1\n",
    "    last=0\n",
    "    while last<max:\n",
    "        last=a1+a2\n",
    "        a1=a2\n",
    "        a2=last\n",
    "        #print(last) fibonacci olduğuna emin olmak için yazdım\n",
    "    return a1\n",
    "print(f\"The maximum number in Fibonacci series that is below {max} is {fibonacci_max(max)}.\")\n",
    "    \n",
    "        \n",
    "    \n",
    "\n",
    "\n",
    "\n",
    "\n",
    "\n",
    "\n",
    "\n",
    "\n"
   ]
  },
  {
   "cell_type": "markdown",
   "id": "47d36a56",
   "metadata": {
    "id": "47d36a56"
   },
   "source": [
    "### **Exercise 2: Factorial Calculation**\n",
    "\n",
    "Write a Python program that prompts the user to enter a positive integer and calculates its factorial using a while loop. The program should then display the result to the user.\n",
    "The expected requirements from your program are listed below:\n",
    "\n",
    "- Your program must use a while loop to calculate the factorial of the user input.\n",
    "- Your program must perform the multiplication operation and check the current number being multiplied.\n",
    "- Your program should display the result of the factorial operation to the user in a user-friendly message.\n",
    "\n",
    "Hints\n",
    "\n",
    "- You can use the input() function to prompt the user to enter a number.\n",
    "- You can use the int() function to convert the user input from string type to an integer type.\n",
    "- You can use a while loop with a condition that checks if the current number is less than or equal to the user input.\n",
    "- You can use one variable to store the current result of the multiplication operation and another variable for the current number being multiplied.\n",
    "- You can multiply the running product by the current number inside the loop and then increment the current number by 1.\n",
    "- You can display the factorial to the user in a user-friendly message using the print() function."
   ]
  },
  {
   "cell_type": "code",
   "execution_count": 28,
   "id": "a9402a7d",
   "metadata": {
    "id": "a9402a7d"
   },
   "outputs": [
    {
     "name": "stdout",
     "output_type": "stream",
     "text": [
      "Number: 5\n",
      "5! = 120\n"
     ]
    }
   ],
   "source": [
    "# Write your program in this cell for Exercise 2.\n",
    "number=firstnumber=int(input(\"Number: \"))\n",
    "result=1\n",
    "while number!=0:\n",
    "    result*=number\n",
    "    number-=1\n",
    "print(f\"{firstnumber}! = {result}\")\n",
    "    \n",
    "\n",
    "\n",
    "\n",
    "\n",
    "\n",
    "\n"
   ]
  },
  {
   "cell_type": "markdown",
   "id": "cf0a9bca",
   "metadata": {
    "id": "cf0a9bca"
   },
   "source": [
    "### **Exercise 3: Multiplication Quiz**\n",
    "\n",
    "In this exercise, you will write a Python program that quizzes the user on multiplication problems using a while loop.\n",
    "\n",
    "Hints:\n",
    "\n",
    "- Use the random.randint() function to generate two random numbers between 1 and 10 and store them in variables.\n",
    "- Use a while loop to repeatedly ask the user to enter the product of the two numbers until they answer correctly.\n",
    "- Inside the while loop, use the input() function to prompt the user to enter the product of the two numbers.\n",
    "- Convert the user's input to an integer using the int() function.\n",
    "- Check if the user's answer is correct using an if statement.\n",
    "- If the user's answer is correct, print a message to the console indicating that they are correct and break out of the while loop."
   ]
  },
  {
   "cell_type": "code",
   "execution_count": 48,
   "id": "e65f22f7",
   "metadata": {
    "id": "e65f22f7",
    "scrolled": true
   },
   "outputs": [
    {
     "name": "stdout",
     "output_type": "stream",
     "text": [
      "1*4=f\n",
      "1*4=3\n",
      "1*4=4\n",
      "correct!\n"
     ]
    }
   ],
   "source": [
    "# Write your program in this cell for Exercise 3.\n",
    "from random import randint\n",
    "randnum1=randint(1,10)\n",
    "randnum2=randint(1,10)\n",
    "while True:    \n",
    "    number1=input(f\"{randnum1}*{randnum2}=\")\n",
    "    if number1==str(randnum1*randnum2):\n",
    "        print(\"correct!\")\n",
    "        break\n",
    "\n",
    "\n",
    "\n",
    "\n",
    "\n",
    "\n",
    "\n",
    "\n",
    "\n"
   ]
  },
  {
   "cell_type": "markdown",
   "id": "c0826939",
   "metadata": {
    "id": "c0826939"
   },
   "source": [
    "### **Exercise 4: Average Calculator**\n",
    "\n",
    "Write a Python program that prompts the user to enter a series of numbers until they enter a negative number. The program should then calculate the average of the positive numbers entered and display the result to the user.\n",
    "Requirements\n",
    "\n",
    "- The program should use a while loop to prompt the user to enter a series of numbers until a negative number is entered.\n",
    "- The program should keep track of the running total of positive numbers entered and the count of positive numbers entered.\n",
    "- The program should calculate the average of the positive numbers entered using the formula average = sum / count.\n",
    "- The program should display the average to the user in a user-friendly message.\n",
    "\n",
    "Hints\n",
    "\n",
    "- You can use the input() function to prompt the user to enter a number.\n",
    "- You can use the int() function to convert the user input from a string to an integer.\n",
    "- You can use a while loop with a condition that checks if the user input is not negative.\n",
    "- You can use an if statement inside the loop to check if the user input is positive.\n",
    "- You can use two variables, one to keep track of the running total of positive numbers entered and one to keep track of the count of positive numbers entered.\n",
    "- You can use an if statement after the loop to check if any positive numbers were entered, and if so, calculate the average and display it to the user.\n",
    "    \n",
    "   \n",
    "   \n",
    "Example output:    \n",
    "```python\n",
    "\n",
    "Enter a number: 5\n",
    "Enter a number: 3\n",
    "Enter a number: 7\n",
    "Enter a number: -1\n",
    "The average is 5.0\n",
    "\n",
    "\n",
    "```"
   ]
  },
  {
   "cell_type": "code",
   "execution_count": 58,
   "id": "ca717d48",
   "metadata": {
    "id": "ca717d48",
    "scrolled": true
   },
   "outputs": [
    {
     "name": "stdout",
     "output_type": "stream",
     "text": [
      "number1: 5\n",
      "number2: 0\n",
      "number3: 10\n",
      "number4: -1\n",
      "The average is 5.0\n"
     ]
    }
   ],
   "source": [
    "# Write your program in this cell for Exercise 4.\n",
    "# \n",
    "# Hint: ith character of a string str can be accessed as str[i] where index i starts from 0\n",
    "count=0\n",
    "totalnumber=0\n",
    "while True:\n",
    "    num=int(input(f\"number{count+1}: \"))\n",
    "    if num<0:\n",
    "        print(f\"The average is {totalnumber/count}\")\n",
    "        break\n",
    "    else:\n",
    "        totalnumber+=num\n",
    "        count+=1\n",
    "\n",
    "\n",
    "\n",
    "\n",
    "\n",
    "\n"
   ]
  },
  {
   "cell_type": "code",
   "execution_count": null,
   "id": "1ee489a5",
   "metadata": {},
   "outputs": [],
   "source": []
  },
  {
   "cell_type": "code",
   "execution_count": null,
   "id": "541b22ad",
   "metadata": {},
   "outputs": [],
   "source": []
  }
 ],
 "metadata": {
  "colab": {
   "collapsed_sections": [],
   "provenance": []
  },
  "kernelspec": {
   "display_name": "Python 3 (ipykernel)",
   "language": "python",
   "name": "python3"
  },
  "language_info": {
   "codemirror_mode": {
    "name": "ipython",
    "version": 3
   },
   "file_extension": ".py",
   "mimetype": "text/x-python",
   "name": "python",
   "nbconvert_exporter": "python",
   "pygments_lexer": "ipython3",
   "version": "3.11.5"
  }
 },
 "nbformat": 4,
 "nbformat_minor": 5
}
